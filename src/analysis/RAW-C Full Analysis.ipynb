{
 "cells": [
  {
   "cell_type": "code",
   "execution_count": 1,
   "id": "6d25ad8d",
   "metadata": {},
   "outputs": [
    {
     "name": "stderr",
     "output_type": "stream",
     "text": [
      "/opt/anaconda3/lib/python3.9/site-packages/scipy/__init__.py:146: UserWarning: A NumPy version >=1.16.5 and <1.23.0 is required for this version of SciPy (detected version 1.26.0\n",
      "  warnings.warn(f\"A NumPy version >={np_minversion} and <{np_maxversion}\"\n"
     ]
    }
   ],
   "source": [
    "import itertools\n",
    "import os.path as op\n",
    "import pandas as pd\n",
    "import matplotlib.pyplot as plt\n",
    "import random\n",
    "import scipy.stats as ss\n",
    "import seaborn as sns\n",
    "\n",
    "from os import listdir\n",
    "from tqdm import tqdm\n"
   ]
  },
  {
   "cell_type": "code",
   "execution_count": 2,
   "id": "251b2bc1",
   "metadata": {},
   "outputs": [],
   "source": [
    "%matplotlib inline\n",
    "%config InlineBackend.figure_format = 'retina'  # makes figs nicer!"
   ]
  },
  {
   "cell_type": "markdown",
   "id": "b0f2b70a",
   "metadata": {},
   "source": [
    "# Load data"
   ]
  },
  {
   "cell_type": "code",
   "execution_count": 3,
   "id": "b3c109b7",
   "metadata": {},
   "outputs": [],
   "source": [
    "## New sentence representation\n",
    "def join_sentences(row):\n",
    "    s1 = row['sentence1']\n",
    "    s2 = row['sentence2']\n",
    "    \n",
    "    return ' '.join(sorted([s1, s2]))"
   ]
  },
  {
   "cell_type": "markdown",
   "id": "c1249403",
   "metadata": {},
   "source": [
    "## Official (previous) data"
   ]
  },
  {
   "cell_type": "code",
   "execution_count": 4,
   "id": "6e3a7775",
   "metadata": {},
   "outputs": [
    {
     "data": {
      "text/html": [
       "<div>\n",
       "<style scoped>\n",
       "    .dataframe tbody tr th:only-of-type {\n",
       "        vertical-align: middle;\n",
       "    }\n",
       "\n",
       "    .dataframe tbody tr th {\n",
       "        vertical-align: top;\n",
       "    }\n",
       "\n",
       "    .dataframe thead th {\n",
       "        text-align: right;\n",
       "    }\n",
       "</style>\n",
       "<table border=\"1\" class=\"dataframe\">\n",
       "  <thead>\n",
       "    <tr style=\"text-align: right;\">\n",
       "      <th></th>\n",
       "      <th>word</th>\n",
       "      <th>sentence1</th>\n",
       "      <th>sentence2</th>\n",
       "      <th>same</th>\n",
       "      <th>ambiguity_type</th>\n",
       "      <th>disambiguating_word1</th>\n",
       "      <th>disambiguating_word2</th>\n",
       "      <th>version</th>\n",
       "      <th>Class</th>\n",
       "      <th>mean_relatedness</th>\n",
       "      <th>...</th>\n",
       "      <th>diff</th>\n",
       "      <th>count</th>\n",
       "      <th>sd_relatedness</th>\n",
       "      <th>distance_bert</th>\n",
       "      <th>distance_elmo</th>\n",
       "      <th>se_relatedness</th>\n",
       "      <th>v1</th>\n",
       "      <th>v2</th>\n",
       "      <th>gpt-4_response</th>\n",
       "      <th>gpt4_rating</th>\n",
       "    </tr>\n",
       "  </thead>\n",
       "  <tbody>\n",
       "    <tr>\n",
       "      <th>0</th>\n",
       "      <td>act</td>\n",
       "      <td>It was a desperate act.</td>\n",
       "      <td>It was a magic act.</td>\n",
       "      <td>False</td>\n",
       "      <td>Polysemy</td>\n",
       "      <td>desperate</td>\n",
       "      <td>magic</td>\n",
       "      <td>M1_a_M2_a</td>\n",
       "      <td>N</td>\n",
       "      <td>2.181818</td>\n",
       "      <td>...</td>\n",
       "      <td>0.181818</td>\n",
       "      <td>11</td>\n",
       "      <td>1.328020</td>\n",
       "      <td>0.204110</td>\n",
       "      <td>0.034093</td>\n",
       "      <td>0.400413</td>\n",
       "      <td>M1_a</td>\n",
       "      <td>M2_a</td>\n",
       "      <td>2</td>\n",
       "      <td>2</td>\n",
       "    </tr>\n",
       "    <tr>\n",
       "      <th>1</th>\n",
       "      <td>act</td>\n",
       "      <td>It was a desperate act.</td>\n",
       "      <td>It was a comedic act.</td>\n",
       "      <td>False</td>\n",
       "      <td>Polysemy</td>\n",
       "      <td>desperate</td>\n",
       "      <td>comedic</td>\n",
       "      <td>M1_a_M2_b</td>\n",
       "      <td>N</td>\n",
       "      <td>2.000000</td>\n",
       "      <td>...</td>\n",
       "      <td>0.000000</td>\n",
       "      <td>7</td>\n",
       "      <td>1.290994</td>\n",
       "      <td>0.215616</td>\n",
       "      <td>0.045927</td>\n",
       "      <td>0.487950</td>\n",
       "      <td>M1_a</td>\n",
       "      <td>M2_b</td>\n",
       "      <td>2</td>\n",
       "      <td>2</td>\n",
       "    </tr>\n",
       "    <tr>\n",
       "      <th>2</th>\n",
       "      <td>act</td>\n",
       "      <td>It was a humane act.</td>\n",
       "      <td>It was a magic act.</td>\n",
       "      <td>False</td>\n",
       "      <td>Polysemy</td>\n",
       "      <td>humane</td>\n",
       "      <td>magic</td>\n",
       "      <td>M1_b_M2_a</td>\n",
       "      <td>N</td>\n",
       "      <td>2.818182</td>\n",
       "      <td>...</td>\n",
       "      <td>0.181818</td>\n",
       "      <td>11</td>\n",
       "      <td>0.981650</td>\n",
       "      <td>0.191488</td>\n",
       "      <td>0.042351</td>\n",
       "      <td>0.295979</td>\n",
       "      <td>M1_b</td>\n",
       "      <td>M2_a</td>\n",
       "      <td>2</td>\n",
       "      <td>2</td>\n",
       "    </tr>\n",
       "    <tr>\n",
       "      <th>3</th>\n",
       "      <td>act</td>\n",
       "      <td>It was a humane act.</td>\n",
       "      <td>It was a comedic act.</td>\n",
       "      <td>False</td>\n",
       "      <td>Polysemy</td>\n",
       "      <td>humane</td>\n",
       "      <td>comedic</td>\n",
       "      <td>M1_b_M2_b</td>\n",
       "      <td>N</td>\n",
       "      <td>2.809524</td>\n",
       "      <td>...</td>\n",
       "      <td>0.190476</td>\n",
       "      <td>21</td>\n",
       "      <td>0.928388</td>\n",
       "      <td>0.225272</td>\n",
       "      <td>0.057707</td>\n",
       "      <td>0.202591</td>\n",
       "      <td>M1_b</td>\n",
       "      <td>M2_b</td>\n",
       "      <td>2</td>\n",
       "      <td>2</td>\n",
       "    </tr>\n",
       "    <tr>\n",
       "      <th>4</th>\n",
       "      <td>act</td>\n",
       "      <td>It was a desperate act.</td>\n",
       "      <td>It was a humane act.</td>\n",
       "      <td>True</td>\n",
       "      <td>Polysemy</td>\n",
       "      <td>desperate</td>\n",
       "      <td>humane</td>\n",
       "      <td>M1_a_M1_b</td>\n",
       "      <td>N</td>\n",
       "      <td>3.900000</td>\n",
       "      <td>...</td>\n",
       "      <td>0.100000</td>\n",
       "      <td>10</td>\n",
       "      <td>0.316228</td>\n",
       "      <td>0.167990</td>\n",
       "      <td>0.041440</td>\n",
       "      <td>0.100000</td>\n",
       "      <td>M1_a</td>\n",
       "      <td>M1_b</td>\n",
       "      <td>3</td>\n",
       "      <td>3</td>\n",
       "    </tr>\n",
       "  </tbody>\n",
       "</table>\n",
       "<p>5 rows × 21 columns</p>\n",
       "</div>"
      ],
      "text/plain": [
       "  word                sentence1              sentence2   same ambiguity_type  \\\n",
       "0  act  It was a desperate act.    It was a magic act.  False       Polysemy   \n",
       "1  act  It was a desperate act.  It was a comedic act.  False       Polysemy   \n",
       "2  act     It was a humane act.    It was a magic act.  False       Polysemy   \n",
       "3  act     It was a humane act.  It was a comedic act.  False       Polysemy   \n",
       "4  act  It was a desperate act.   It was a humane act.   True       Polysemy   \n",
       "\n",
       "  disambiguating_word1 disambiguating_word2    version Class  \\\n",
       "0            desperate                magic  M1_a_M2_a     N   \n",
       "1            desperate              comedic  M1_a_M2_b     N   \n",
       "2               humane                magic  M1_b_M2_a     N   \n",
       "3               humane              comedic  M1_b_M2_b     N   \n",
       "4            desperate               humane  M1_a_M1_b     N   \n",
       "\n",
       "   mean_relatedness  ...      diff  count  sd_relatedness  distance_bert  \\\n",
       "0          2.181818  ...  0.181818     11        1.328020       0.204110   \n",
       "1          2.000000  ...  0.000000      7        1.290994       0.215616   \n",
       "2          2.818182  ...  0.181818     11        0.981650       0.191488   \n",
       "3          2.809524  ...  0.190476     21        0.928388       0.225272   \n",
       "4          3.900000  ...  0.100000     10        0.316228       0.167990   \n",
       "\n",
       "   distance_elmo  se_relatedness    v1    v2 gpt-4_response gpt4_rating  \n",
       "0       0.034093        0.400413  M1_a  M2_a              2           2  \n",
       "1       0.045927        0.487950  M1_a  M2_b              2           2  \n",
       "2       0.042351        0.295979  M1_b  M2_a              2           2  \n",
       "3       0.057707        0.202591  M1_b  M2_b              2           2  \n",
       "4       0.041440        0.100000  M1_a  M1_b              3           3  \n",
       "\n",
       "[5 rows x 21 columns]"
      ]
     },
     "execution_count": 4,
     "metadata": {},
     "output_type": "execute_result"
    }
   ],
   "source": [
    "df_llm = pd.read_csv(\"../../data/official/llm/raw-c_gpt-4.csv\")\n",
    "df_llm.head(5)"
   ]
  },
  {
   "cell_type": "code",
   "execution_count": 5,
   "id": "818a0062",
   "metadata": {},
   "outputs": [
    {
     "data": {
      "text/html": [
       "<div>\n",
       "<style scoped>\n",
       "    .dataframe tbody tr th:only-of-type {\n",
       "        vertical-align: middle;\n",
       "    }\n",
       "\n",
       "    .dataframe tbody tr th {\n",
       "        vertical-align: top;\n",
       "    }\n",
       "\n",
       "    .dataframe thead th {\n",
       "        text-align: right;\n",
       "    }\n",
       "</style>\n",
       "<table border=\"1\" class=\"dataframe\">\n",
       "  <thead>\n",
       "    <tr style=\"text-align: right;\">\n",
       "      <th></th>\n",
       "      <th>word</th>\n",
       "      <th>sentence1</th>\n",
       "      <th>sentence2</th>\n",
       "      <th>same</th>\n",
       "      <th>ambiguity_type</th>\n",
       "      <th>disambiguating_word1</th>\n",
       "      <th>disambiguating_word2</th>\n",
       "      <th>version</th>\n",
       "      <th>Class</th>\n",
       "      <th>mean_relatedness</th>\n",
       "      <th>median_relatedness</th>\n",
       "      <th>diff</th>\n",
       "      <th>count</th>\n",
       "      <th>sd_relatedness</th>\n",
       "      <th>distance_bert</th>\n",
       "      <th>distance_elmo</th>\n",
       "      <th>se_relatedness</th>\n",
       "      <th>v1</th>\n",
       "      <th>v2</th>\n",
       "    </tr>\n",
       "  </thead>\n",
       "  <tbody>\n",
       "    <tr>\n",
       "      <th>0</th>\n",
       "      <td>act</td>\n",
       "      <td>It was a desperate act.</td>\n",
       "      <td>It was a magic act.</td>\n",
       "      <td>False</td>\n",
       "      <td>Polysemy</td>\n",
       "      <td>desperate</td>\n",
       "      <td>magic</td>\n",
       "      <td>M1_a_M2_a</td>\n",
       "      <td>N</td>\n",
       "      <td>2.181818</td>\n",
       "      <td>2.0</td>\n",
       "      <td>0.181818</td>\n",
       "      <td>11</td>\n",
       "      <td>1.328020</td>\n",
       "      <td>0.204110</td>\n",
       "      <td>0.034093</td>\n",
       "      <td>0.400413</td>\n",
       "      <td>M1_a</td>\n",
       "      <td>M2_a</td>\n",
       "    </tr>\n",
       "    <tr>\n",
       "      <th>1</th>\n",
       "      <td>act</td>\n",
       "      <td>It was a desperate act.</td>\n",
       "      <td>It was a comedic act.</td>\n",
       "      <td>False</td>\n",
       "      <td>Polysemy</td>\n",
       "      <td>desperate</td>\n",
       "      <td>comedic</td>\n",
       "      <td>M1_a_M2_b</td>\n",
       "      <td>N</td>\n",
       "      <td>2.000000</td>\n",
       "      <td>2.0</td>\n",
       "      <td>0.000000</td>\n",
       "      <td>7</td>\n",
       "      <td>1.290994</td>\n",
       "      <td>0.215616</td>\n",
       "      <td>0.045927</td>\n",
       "      <td>0.487950</td>\n",
       "      <td>M1_a</td>\n",
       "      <td>M2_b</td>\n",
       "    </tr>\n",
       "    <tr>\n",
       "      <th>2</th>\n",
       "      <td>act</td>\n",
       "      <td>It was a humane act.</td>\n",
       "      <td>It was a magic act.</td>\n",
       "      <td>False</td>\n",
       "      <td>Polysemy</td>\n",
       "      <td>humane</td>\n",
       "      <td>magic</td>\n",
       "      <td>M1_b_M2_a</td>\n",
       "      <td>N</td>\n",
       "      <td>2.818182</td>\n",
       "      <td>3.0</td>\n",
       "      <td>0.181818</td>\n",
       "      <td>11</td>\n",
       "      <td>0.981650</td>\n",
       "      <td>0.191488</td>\n",
       "      <td>0.042351</td>\n",
       "      <td>0.295979</td>\n",
       "      <td>M1_b</td>\n",
       "      <td>M2_a</td>\n",
       "    </tr>\n",
       "    <tr>\n",
       "      <th>3</th>\n",
       "      <td>act</td>\n",
       "      <td>It was a humane act.</td>\n",
       "      <td>It was a comedic act.</td>\n",
       "      <td>False</td>\n",
       "      <td>Polysemy</td>\n",
       "      <td>humane</td>\n",
       "      <td>comedic</td>\n",
       "      <td>M1_b_M2_b</td>\n",
       "      <td>N</td>\n",
       "      <td>2.809524</td>\n",
       "      <td>3.0</td>\n",
       "      <td>0.190476</td>\n",
       "      <td>21</td>\n",
       "      <td>0.928388</td>\n",
       "      <td>0.225272</td>\n",
       "      <td>0.057707</td>\n",
       "      <td>0.202591</td>\n",
       "      <td>M1_b</td>\n",
       "      <td>M2_b</td>\n",
       "    </tr>\n",
       "    <tr>\n",
       "      <th>4</th>\n",
       "      <td>act</td>\n",
       "      <td>It was a desperate act.</td>\n",
       "      <td>It was a humane act.</td>\n",
       "      <td>True</td>\n",
       "      <td>Polysemy</td>\n",
       "      <td>desperate</td>\n",
       "      <td>humane</td>\n",
       "      <td>M1_a_M1_b</td>\n",
       "      <td>N</td>\n",
       "      <td>3.900000</td>\n",
       "      <td>4.0</td>\n",
       "      <td>0.100000</td>\n",
       "      <td>10</td>\n",
       "      <td>0.316228</td>\n",
       "      <td>0.167990</td>\n",
       "      <td>0.041440</td>\n",
       "      <td>0.100000</td>\n",
       "      <td>M1_a</td>\n",
       "      <td>M1_b</td>\n",
       "    </tr>\n",
       "  </tbody>\n",
       "</table>\n",
       "</div>"
      ],
      "text/plain": [
       "  word                sentence1              sentence2   same ambiguity_type  \\\n",
       "0  act  It was a desperate act.    It was a magic act.  False       Polysemy   \n",
       "1  act  It was a desperate act.  It was a comedic act.  False       Polysemy   \n",
       "2  act     It was a humane act.    It was a magic act.  False       Polysemy   \n",
       "3  act     It was a humane act.  It was a comedic act.  False       Polysemy   \n",
       "4  act  It was a desperate act.   It was a humane act.   True       Polysemy   \n",
       "\n",
       "  disambiguating_word1 disambiguating_word2    version Class  \\\n",
       "0            desperate                magic  M1_a_M2_a     N   \n",
       "1            desperate              comedic  M1_a_M2_b     N   \n",
       "2               humane                magic  M1_b_M2_a     N   \n",
       "3               humane              comedic  M1_b_M2_b     N   \n",
       "4            desperate               humane  M1_a_M1_b     N   \n",
       "\n",
       "   mean_relatedness  median_relatedness      diff  count  sd_relatedness  \\\n",
       "0          2.181818                 2.0  0.181818     11        1.328020   \n",
       "1          2.000000                 2.0  0.000000      7        1.290994   \n",
       "2          2.818182                 3.0  0.181818     11        0.981650   \n",
       "3          2.809524                 3.0  0.190476     21        0.928388   \n",
       "4          3.900000                 4.0  0.100000     10        0.316228   \n",
       "\n",
       "   distance_bert  distance_elmo  se_relatedness    v1    v2  \n",
       "0       0.204110       0.034093        0.400413  M1_a  M2_a  \n",
       "1       0.215616       0.045927        0.487950  M1_a  M2_b  \n",
       "2       0.191488       0.042351        0.295979  M1_b  M2_a  \n",
       "3       0.225272       0.057707        0.202591  M1_b  M2_b  \n",
       "4       0.167990       0.041440        0.100000  M1_a  M1_b  "
      ]
     },
     "execution_count": 5,
     "metadata": {},
     "output_type": "execute_result"
    }
   ],
   "source": [
    "df_official_human = pd.read_csv(\"../../data/official/human/raw-c.csv\")\n",
    "df_official_human.head(5)"
   ]
  },
  {
   "cell_type": "markdown",
   "id": "0dc1efae",
   "metadata": {},
   "source": [
    "## New data"
   ]
  },
  {
   "cell_type": "code",
   "execution_count": 6,
   "id": "24ef50d7",
   "metadata": {},
   "outputs": [
    {
     "name": "stdout",
     "output_type": "stream",
     "text": [
      "100 ppts collected.\n"
     ]
    }
   ],
   "source": [
    "df = pd.read_csv(\"../../data/processed/rawc.csv\")\n",
    "print(str(len(set(df['participant']))) + \" ppts collected.\")"
   ]
  },
  {
   "cell_type": "code",
   "execution_count": 7,
   "id": "9f39a091",
   "metadata": {},
   "outputs": [],
   "source": [
    "# Join\n",
    "df['sentences_joined'] = df.apply(join_sentences, axis = 1)"
   ]
  },
  {
   "cell_type": "markdown",
   "id": "13f254f4",
   "metadata": {},
   "source": [
    "### Exclude ppts who failed catch trials"
   ]
  },
  {
   "cell_type": "code",
   "execution_count": 8,
   "id": "8a2efd36",
   "metadata": {},
   "outputs": [
    {
     "name": "stdout",
     "output_type": "stream",
     "text": [
      "5 ppts excluded.\n"
     ]
    },
    {
     "name": "stderr",
     "output_type": "stream",
     "text": [
      "/var/folders/pn/5zbmv0cj31v6hmyh53njhmdw0000gn/T/ipykernel_1933/1908477822.py:3: SettingWithCopyWarning: \n",
      "A value is trying to be set on a copy of a slice from a DataFrame.\n",
      "Try using .loc[row_indexer,col_indexer] = value instead\n",
      "\n",
      "See the caveats in the documentation: https://pandas.pydata.org/pandas-docs/stable/user_guide/indexing.html#returning-a-view-versus-a-copy\n",
      "  df_catch['correct'] = df_catch['Response'] == 5\n"
     ]
    }
   ],
   "source": [
    "### Catch trials\n",
    "df_catch = df[df['catch_trial'] == True]\n",
    "df_catch['correct'] = df_catch['Response'] == 5\n",
    "exclude = df_catch[df_catch['correct'] == False]['participant'].values\n",
    "print(str(len(exclude)) + \" ppts excluded.\")"
   ]
  },
  {
   "cell_type": "code",
   "execution_count": 9,
   "id": "1c1be36b",
   "metadata": {},
   "outputs": [
    {
     "name": "stdout",
     "output_type": "stream",
     "text": [
      "95 ppts after exclusion.\n"
     ]
    }
   ],
   "source": [
    "df_target = df[~df['participant'].isin(exclude)]\n",
    "print(str(len(set(df_target['participant']))) + \" ppts after exclusion.\")\n"
   ]
  },
  {
   "cell_type": "code",
   "execution_count": 10,
   "id": "886e113f",
   "metadata": {},
   "outputs": [],
   "source": [
    "df_target = df_target[df_target['catch_trial'] == False]"
   ]
  },
  {
   "cell_type": "code",
   "execution_count": 11,
   "id": "0e3a0d4f",
   "metadata": {},
   "outputs": [
    {
     "data": {
      "text/html": [
       "<div>\n",
       "<style scoped>\n",
       "    .dataframe tbody tr th:only-of-type {\n",
       "        vertical-align: middle;\n",
       "    }\n",
       "\n",
       "    .dataframe tbody tr th {\n",
       "        vertical-align: top;\n",
       "    }\n",
       "\n",
       "    .dataframe thead th {\n",
       "        text-align: right;\n",
       "    }\n",
       "</style>\n",
       "<table border=\"1\" class=\"dataframe\">\n",
       "  <thead>\n",
       "    <tr style=\"text-align: right;\">\n",
       "      <th></th>\n",
       "      <th>Experiment ID</th>\n",
       "      <th>participant</th>\n",
       "      <th>word</th>\n",
       "      <th>Response</th>\n",
       "      <th>list</th>\n",
       "      <th>Reaction Time</th>\n",
       "      <th>sentence1</th>\n",
       "      <th>sentence2</th>\n",
       "      <th>Trial Number</th>\n",
       "      <th>catch_trial</th>\n",
       "      <th>UTC Date and Time</th>\n",
       "      <th>dates</th>\n",
       "      <th>sentences_joined</th>\n",
       "    </tr>\n",
       "  </thead>\n",
       "  <tbody>\n",
       "    <tr>\n",
       "      <th>0</th>\n",
       "      <td>145023.0</td>\n",
       "      <td>9473885.0</td>\n",
       "      <td>board</td>\n",
       "      <td>5</td>\n",
       "      <td>5.0</td>\n",
       "      <td>10215.307</td>\n",
       "      <td>It was the school board.</td>\n",
       "      <td>It was the ironing board.</td>\n",
       "      <td>1.0</td>\n",
       "      <td>False</td>\n",
       "      <td>04/10/2023 23:42:33</td>\n",
       "      <td>2023-10-04 23:42:33</td>\n",
       "      <td>It was the ironing board. It was the school bo...</td>\n",
       "    </tr>\n",
       "    <tr>\n",
       "      <th>1</th>\n",
       "      <td>145023.0</td>\n",
       "      <td>9473885.0</td>\n",
       "      <td>cell</td>\n",
       "      <td>2</td>\n",
       "      <td>5.0</td>\n",
       "      <td>4733.235</td>\n",
       "      <td>It was a skin cell.</td>\n",
       "      <td>It was a prison cell.</td>\n",
       "      <td>2.0</td>\n",
       "      <td>False</td>\n",
       "      <td>04/10/2023 23:42:38</td>\n",
       "      <td>2023-10-04 23:42:38</td>\n",
       "      <td>It was a prison cell. It was a skin cell.</td>\n",
       "    </tr>\n",
       "  </tbody>\n",
       "</table>\n",
       "</div>"
      ],
      "text/plain": [
       "   Experiment ID  participant   word  Response  list  Reaction Time  \\\n",
       "0       145023.0    9473885.0  board         5   5.0      10215.307   \n",
       "1       145023.0    9473885.0   cell         2   5.0       4733.235   \n",
       "\n",
       "                  sentence1                  sentence2  Trial Number  \\\n",
       "0  It was the school board.  It was the ironing board.           1.0   \n",
       "1       It was a skin cell.      It was a prison cell.           2.0   \n",
       "\n",
       "   catch_trial    UTC Date and Time                dates  \\\n",
       "0        False  04/10/2023 23:42:33  2023-10-04 23:42:33   \n",
       "1        False  04/10/2023 23:42:38  2023-10-04 23:42:38   \n",
       "\n",
       "                                    sentences_joined  \n",
       "0  It was the ironing board. It was the school bo...  \n",
       "1          It was a prison cell. It was a skin cell.  "
      ]
     },
     "execution_count": 11,
     "metadata": {},
     "output_type": "execute_result"
    }
   ],
   "source": [
    "df_target.head(2)"
   ]
  },
  {
   "cell_type": "markdown",
   "id": "ce8c8834",
   "metadata": {},
   "source": [
    "# Analyses\n",
    "\n",
    "Steps:\n",
    "\n",
    "1. Overall correlations between LLM and official RAW-C set.  \n",
    "2. List-wise correlations between LLM and official RAW-C set for that list.  \n",
    "3. Correlations between each ppt and that RAW-C list.  "
   ]
  },
  {
   "cell_type": "markdown",
   "id": "54afab99",
   "metadata": {},
   "source": [
    "## Step 1: Overall (LLM vs. RAW-C set)"
   ]
  },
  {
   "cell_type": "code",
   "execution_count": 12,
   "id": "70d107c4",
   "metadata": {},
   "outputs": [
    {
     "data": {
      "text/html": [
       "<div>\n",
       "<style scoped>\n",
       "    .dataframe tbody tr th:only-of-type {\n",
       "        vertical-align: middle;\n",
       "    }\n",
       "\n",
       "    .dataframe tbody tr th {\n",
       "        vertical-align: top;\n",
       "    }\n",
       "\n",
       "    .dataframe thead th {\n",
       "        text-align: right;\n",
       "    }\n",
       "</style>\n",
       "<table border=\"1\" class=\"dataframe\">\n",
       "  <thead>\n",
       "    <tr style=\"text-align: right;\">\n",
       "      <th></th>\n",
       "      <th>word</th>\n",
       "      <th>sentence1</th>\n",
       "      <th>sentence2</th>\n",
       "      <th>same</th>\n",
       "      <th>ambiguity_type</th>\n",
       "      <th>disambiguating_word1</th>\n",
       "      <th>disambiguating_word2</th>\n",
       "      <th>version</th>\n",
       "      <th>Class</th>\n",
       "      <th>mean_relatedness</th>\n",
       "      <th>...</th>\n",
       "      <th>diff</th>\n",
       "      <th>count</th>\n",
       "      <th>sd_relatedness</th>\n",
       "      <th>distance_bert</th>\n",
       "      <th>distance_elmo</th>\n",
       "      <th>se_relatedness</th>\n",
       "      <th>v1</th>\n",
       "      <th>v2</th>\n",
       "      <th>gpt-4_response</th>\n",
       "      <th>gpt4_rating</th>\n",
       "    </tr>\n",
       "  </thead>\n",
       "  <tbody>\n",
       "    <tr>\n",
       "      <th>0</th>\n",
       "      <td>act</td>\n",
       "      <td>It was a desperate act.</td>\n",
       "      <td>It was a magic act.</td>\n",
       "      <td>False</td>\n",
       "      <td>Polysemy</td>\n",
       "      <td>desperate</td>\n",
       "      <td>magic</td>\n",
       "      <td>M1_a_M2_a</td>\n",
       "      <td>N</td>\n",
       "      <td>2.181818</td>\n",
       "      <td>...</td>\n",
       "      <td>0.181818</td>\n",
       "      <td>11</td>\n",
       "      <td>1.328020</td>\n",
       "      <td>0.204110</td>\n",
       "      <td>0.034093</td>\n",
       "      <td>0.400413</td>\n",
       "      <td>M1_a</td>\n",
       "      <td>M2_a</td>\n",
       "      <td>2</td>\n",
       "      <td>2</td>\n",
       "    </tr>\n",
       "    <tr>\n",
       "      <th>1</th>\n",
       "      <td>act</td>\n",
       "      <td>It was a desperate act.</td>\n",
       "      <td>It was a comedic act.</td>\n",
       "      <td>False</td>\n",
       "      <td>Polysemy</td>\n",
       "      <td>desperate</td>\n",
       "      <td>comedic</td>\n",
       "      <td>M1_a_M2_b</td>\n",
       "      <td>N</td>\n",
       "      <td>2.000000</td>\n",
       "      <td>...</td>\n",
       "      <td>0.000000</td>\n",
       "      <td>7</td>\n",
       "      <td>1.290994</td>\n",
       "      <td>0.215616</td>\n",
       "      <td>0.045927</td>\n",
       "      <td>0.487950</td>\n",
       "      <td>M1_a</td>\n",
       "      <td>M2_b</td>\n",
       "      <td>2</td>\n",
       "      <td>2</td>\n",
       "    </tr>\n",
       "  </tbody>\n",
       "</table>\n",
       "<p>2 rows × 21 columns</p>\n",
       "</div>"
      ],
      "text/plain": [
       "  word                sentence1              sentence2   same ambiguity_type  \\\n",
       "0  act  It was a desperate act.    It was a magic act.  False       Polysemy   \n",
       "1  act  It was a desperate act.  It was a comedic act.  False       Polysemy   \n",
       "\n",
       "  disambiguating_word1 disambiguating_word2    version Class  \\\n",
       "0            desperate                magic  M1_a_M2_a     N   \n",
       "1            desperate              comedic  M1_a_M2_b     N   \n",
       "\n",
       "   mean_relatedness  ...      diff  count  sd_relatedness  distance_bert  \\\n",
       "0          2.181818  ...  0.181818     11        1.328020       0.204110   \n",
       "1          2.000000  ...  0.000000      7        1.290994       0.215616   \n",
       "\n",
       "   distance_elmo  se_relatedness    v1    v2 gpt-4_response gpt4_rating  \n",
       "0       0.034093        0.400413  M1_a  M2_a              2           2  \n",
       "1       0.045927        0.487950  M1_a  M2_b              2           2  \n",
       "\n",
       "[2 rows x 21 columns]"
      ]
     },
     "execution_count": 12,
     "metadata": {},
     "output_type": "execute_result"
    }
   ],
   "source": [
    "### Overall correlation between LLM and official RAW-C\n",
    "df_joined_official = pd.merge(df_llm, df_official_human)\n",
    "df_joined_official.head(2)"
   ]
  },
  {
   "cell_type": "code",
   "execution_count": 13,
   "id": "f8ea8723",
   "metadata": {},
   "outputs": [
    {
     "data": {
      "text/html": [
       "<div>\n",
       "<style scoped>\n",
       "    .dataframe tbody tr th:only-of-type {\n",
       "        vertical-align: middle;\n",
       "    }\n",
       "\n",
       "    .dataframe tbody tr th {\n",
       "        vertical-align: top;\n",
       "    }\n",
       "\n",
       "    .dataframe thead th {\n",
       "        text-align: right;\n",
       "    }\n",
       "</style>\n",
       "<table border=\"1\" class=\"dataframe\">\n",
       "  <thead>\n",
       "    <tr style=\"text-align: right;\">\n",
       "      <th></th>\n",
       "      <th>word</th>\n",
       "      <th>sentence1</th>\n",
       "      <th>sentence2</th>\n",
       "      <th>same</th>\n",
       "      <th>ambiguity_type</th>\n",
       "      <th>disambiguating_word1</th>\n",
       "      <th>disambiguating_word2</th>\n",
       "      <th>version</th>\n",
       "      <th>Class</th>\n",
       "      <th>mean_relatedness</th>\n",
       "      <th>...</th>\n",
       "      <th>count</th>\n",
       "      <th>sd_relatedness</th>\n",
       "      <th>distance_bert</th>\n",
       "      <th>distance_elmo</th>\n",
       "      <th>se_relatedness</th>\n",
       "      <th>v1</th>\n",
       "      <th>v2</th>\n",
       "      <th>gpt-4_response</th>\n",
       "      <th>gpt4_rating</th>\n",
       "      <th>sentences_joined</th>\n",
       "    </tr>\n",
       "  </thead>\n",
       "  <tbody>\n",
       "    <tr>\n",
       "      <th>0</th>\n",
       "      <td>act</td>\n",
       "      <td>It was a desperate act.</td>\n",
       "      <td>It was a magic act.</td>\n",
       "      <td>False</td>\n",
       "      <td>Polysemy</td>\n",
       "      <td>desperate</td>\n",
       "      <td>magic</td>\n",
       "      <td>M1_a_M2_a</td>\n",
       "      <td>N</td>\n",
       "      <td>2.181818</td>\n",
       "      <td>...</td>\n",
       "      <td>11</td>\n",
       "      <td>1.328020</td>\n",
       "      <td>0.204110</td>\n",
       "      <td>0.034093</td>\n",
       "      <td>0.400413</td>\n",
       "      <td>M1_a</td>\n",
       "      <td>M2_a</td>\n",
       "      <td>2</td>\n",
       "      <td>2</td>\n",
       "      <td>It was a desperate act. It was a magic act.</td>\n",
       "    </tr>\n",
       "    <tr>\n",
       "      <th>1</th>\n",
       "      <td>act</td>\n",
       "      <td>It was a desperate act.</td>\n",
       "      <td>It was a comedic act.</td>\n",
       "      <td>False</td>\n",
       "      <td>Polysemy</td>\n",
       "      <td>desperate</td>\n",
       "      <td>comedic</td>\n",
       "      <td>M1_a_M2_b</td>\n",
       "      <td>N</td>\n",
       "      <td>2.000000</td>\n",
       "      <td>...</td>\n",
       "      <td>7</td>\n",
       "      <td>1.290994</td>\n",
       "      <td>0.215616</td>\n",
       "      <td>0.045927</td>\n",
       "      <td>0.487950</td>\n",
       "      <td>M1_a</td>\n",
       "      <td>M2_b</td>\n",
       "      <td>2</td>\n",
       "      <td>2</td>\n",
       "      <td>It was a comedic act. It was a desperate act.</td>\n",
       "    </tr>\n",
       "  </tbody>\n",
       "</table>\n",
       "<p>2 rows × 22 columns</p>\n",
       "</div>"
      ],
      "text/plain": [
       "  word                sentence1              sentence2   same ambiguity_type  \\\n",
       "0  act  It was a desperate act.    It was a magic act.  False       Polysemy   \n",
       "1  act  It was a desperate act.  It was a comedic act.  False       Polysemy   \n",
       "\n",
       "  disambiguating_word1 disambiguating_word2    version Class  \\\n",
       "0            desperate                magic  M1_a_M2_a     N   \n",
       "1            desperate              comedic  M1_a_M2_b     N   \n",
       "\n",
       "   mean_relatedness  ...  count  sd_relatedness  distance_bert  distance_elmo  \\\n",
       "0          2.181818  ...     11        1.328020       0.204110       0.034093   \n",
       "1          2.000000  ...      7        1.290994       0.215616       0.045927   \n",
       "\n",
       "   se_relatedness    v1    v2 gpt-4_response gpt4_rating  \\\n",
       "0        0.400413  M1_a  M2_a              2           2   \n",
       "1        0.487950  M1_a  M2_b              2           2   \n",
       "\n",
       "                                sentences_joined  \n",
       "0    It was a desperate act. It was a magic act.  \n",
       "1  It was a comedic act. It was a desperate act.  \n",
       "\n",
       "[2 rows x 22 columns]"
      ]
     },
     "execution_count": 13,
     "metadata": {},
     "output_type": "execute_result"
    }
   ],
   "source": [
    "### Join\n",
    "df_joined_official['sentences_joined'] = df_joined_official.apply(join_sentences, axis = 1)\n",
    "df_joined_official.head(2)"
   ]
  },
  {
   "cell_type": "code",
   "execution_count": 14,
   "id": "79fc6358",
   "metadata": {},
   "outputs": [
    {
     "name": "stdout",
     "output_type": "stream",
     "text": [
      "Overall Pearson's correlation: (0.8053914959026469, 2.5293474558849023e-154)\n",
      "Overall Spearman's correlation: SpearmanrResult(correlation=0.8154629242678142, pvalue=2.990904567643117e-161)\n"
     ]
    }
   ],
   "source": [
    "r = ss.pearsonr(df_joined_official['mean_relatedness'], df_joined_official['gpt4_rating'])\n",
    "print(\"Overall Pearson's correlation: \" + str(r))\n",
    "r = ss.spearmanr(df_joined_official['mean_relatedness'], df_joined_official['gpt4_rating'])\n",
    "print(\"Overall Spearman's correlation: \" + str(r))"
   ]
  },
  {
   "cell_type": "markdown",
   "id": "4da0f9bb",
   "metadata": {},
   "source": [
    "## Step 2: List-wise correlations (LLM)"
   ]
  },
  {
   "cell_type": "markdown",
   "id": "f6e6357a",
   "metadata": {},
   "source": [
    "### Read in each list"
   ]
  },
  {
   "cell_type": "code",
   "execution_count": 15,
   "id": "62acbe74",
   "metadata": {},
   "outputs": [],
   "source": [
    "all_lists = listdir(\"../../experiment/stimuli/rawc_lists/\")\n",
    "list_to_df = {}\n",
    "all_dfs = []\n",
    "for list_num in range(1, 9):\n",
    "    \n",
    "    df_tmp = pd.read_csv(\"../../experiment/stimuli/rawc_lists/rawc_stims_list{num}.csv\".format(num = list_num))\n",
    "    df_tmp_merged = pd.merge(df_tmp, df_joined_official[['word', 'sentence1', 'sentence2', 'mean_relatedness', 'gpt4_rating']])\n",
    "    # Join\n",
    "    df_tmp_merged['sentences_joined'] = df_tmp_merged.apply(join_sentences, axis = 1)\n",
    "    \n",
    "    list_to_df[list_num] = df_tmp_merged\n",
    "    all_dfs.append(df_tmp_merged)"
   ]
  },
  {
   "cell_type": "markdown",
   "id": "497047f6",
   "metadata": {},
   "source": [
    "### Calculate LLM correlations per list"
   ]
  },
  {
   "cell_type": "code",
   "execution_count": 16,
   "id": "07087fab",
   "metadata": {},
   "outputs": [],
   "source": [
    "correlations_llm = []\n",
    "\n",
    "for list_num, df in list_to_df.items():\n",
    "    \n",
    "    correlations_llm.append({\n",
    "        'list_num': list_num,\n",
    "        'n': len(df),\n",
    "        'pearson_llm': ss.pearsonr(df['mean_relatedness'],\n",
    "                             df['gpt4_rating'])[0],\n",
    "        'spearman_llm': ss.spearmanr(df['mean_relatedness'],\n",
    "                             df['gpt4_rating'])[0]\n",
    "    })"
   ]
  },
  {
   "cell_type": "code",
   "execution_count": 17,
   "id": "c5875710",
   "metadata": {},
   "outputs": [
    {
     "data": {
      "text/plain": [
       "(8, 4)"
      ]
     },
     "execution_count": 17,
     "metadata": {},
     "output_type": "execute_result"
    }
   ],
   "source": [
    "df_correlations_llm = pd.DataFrame(correlations_llm)\n",
    "df_correlations_llm.shape"
   ]
  },
  {
   "cell_type": "code",
   "execution_count": 18,
   "id": "6bfc049f",
   "metadata": {},
   "outputs": [
    {
     "name": "stdout",
     "output_type": "stream",
     "text": [
      "Average Pearson's correlation: 0.8000494955219084\n",
      "Average Spearman's correlation: 0.8038424796435711\n"
     ]
    }
   ],
   "source": [
    "print(\"Average Pearson's correlation: \" + str(df_correlations_llm['pearson_llm'].mean()))\n",
    "print(\"Average Spearman's correlation: \" + str(df_correlations_llm['spearman_llm'].mean()))"
   ]
  },
  {
   "cell_type": "code",
   "execution_count": 19,
   "id": "b2f3906b",
   "metadata": {},
   "outputs": [
    {
     "data": {
      "text/plain": [
       "<AxesSubplot:xlabel='spearman_llm', ylabel='Count'>"
      ]
     },
     "execution_count": 19,
     "metadata": {},
     "output_type": "execute_result"
    },
    {
     "data": {
      "image/png": "[encoded data removed]",
      "text/plain": [
       "<Figure size 432x288 with 1 Axes>"
      ]
     },
     "metadata": {
      "image/png": {
       "height": 262,
       "width": 388
      },
      "needs_background": "light"
     },
     "output_type": "display_data"
    }
   ],
   "source": [
    "sns.histplot(data = df_correlations_llm, x = \"spearman_llm\")"
   ]
  },
  {
   "cell_type": "code",
   "execution_count": 20,
   "id": "77ba2547",
   "metadata": {},
   "outputs": [],
   "source": [
    "df_correlations_llm.to_csv(\"../../data/processed/rawc_llm_corrs.csv\", index = False)"
   ]
  },
  {
   "cell_type": "markdown",
   "id": "d375ae59",
   "metadata": {},
   "source": [
    "## Step 3: Individual human comparison"
   ]
  },
  {
   "cell_type": "markdown",
   "id": "d1a614c6",
   "metadata": {},
   "source": [
    "### Calculate LLM correlations per subject"
   ]
  },
  {
   "cell_type": "code",
   "execution_count": 21,
   "id": "52b67864",
   "metadata": {},
   "outputs": [],
   "source": [
    "participants = list(set(df_target['participant']))\n",
    "ppt_lists = df_target[['participant', 'list']].drop_duplicates().values"
   ]
  },
  {
   "cell_type": "code",
   "execution_count": 22,
   "id": "0b576459",
   "metadata": {},
   "outputs": [
    {
     "name": "stderr",
     "output_type": "stream",
     "text": [
      "100%|██████████████████████████████████████████| 95/95 [00:00<00:00, 505.35it/s]\n"
     ]
    }
   ],
   "source": [
    "correlations_ppt = []\n",
    "for ppt, list_num in tqdm(ppt_lists):\n",
    "    \n",
    "    ### Get just that ppt\n",
    "    df_tmp = df_target[df_target['participant'] == ppt][['word', 'sentences_joined', 'Response']]\n",
    "    \n",
    "    ### List\n",
    "    df_list = list_to_df[list_num]\n",
    "    # df_list['sentences_joined'] = df_list.apply(join_sentences, axis = 1)\n",
    "    df_list = df_list[['word', 'sentences_joined', 'mean_relatedness']]\n",
    "    \n",
    "    ### Join with appropriate list\n",
    "    ### REDO THIS (sentence1 and sentence2 aren't always the same)\n",
    "    df_joined_tmp = pd.merge(df_tmp, df_list)\n",
    "    \n",
    "    correlations_ppt.append({\n",
    "        'ppt': ppt,\n",
    "        'list_num': list_num,\n",
    "        'n': len(df_joined_tmp),\n",
    "        'pearson_ppt': ss.pearsonr(df_joined_tmp['Response'],\n",
    "                             df_joined_tmp['mean_relatedness'])[0],\n",
    "        'spearman_ppt': ss.spearmanr(df_joined_tmp['Response'],\n",
    "                             df_joined_tmp['mean_relatedness'])[0]\n",
    "        \n",
    "    })"
   ]
  },
  {
   "cell_type": "code",
   "execution_count": 23,
   "id": "c66d308e",
   "metadata": {},
   "outputs": [
    {
     "data": {
      "text/html": [
       "<div>\n",
       "<style scoped>\n",
       "    .dataframe tbody tr th:only-of-type {\n",
       "        vertical-align: middle;\n",
       "    }\n",
       "\n",
       "    .dataframe tbody tr th {\n",
       "        vertical-align: top;\n",
       "    }\n",
       "\n",
       "    .dataframe thead th {\n",
       "        text-align: right;\n",
       "    }\n",
       "</style>\n",
       "<table border=\"1\" class=\"dataframe\">\n",
       "  <thead>\n",
       "    <tr style=\"text-align: right;\">\n",
       "      <th></th>\n",
       "      <th>ppt</th>\n",
       "      <th>list_num</th>\n",
       "      <th>n</th>\n",
       "      <th>pearson_ppt</th>\n",
       "      <th>spearman_ppt</th>\n",
       "    </tr>\n",
       "  </thead>\n",
       "  <tbody>\n",
       "    <tr>\n",
       "      <th>0</th>\n",
       "      <td>9473885.0</td>\n",
       "      <td>5.0</td>\n",
       "      <td>84</td>\n",
       "      <td>0.858743</td>\n",
       "      <td>0.839662</td>\n",
       "    </tr>\n",
       "    <tr>\n",
       "      <th>1</th>\n",
       "      <td>9473887.0</td>\n",
       "      <td>5.0</td>\n",
       "      <td>84</td>\n",
       "      <td>0.888577</td>\n",
       "      <td>0.855338</td>\n",
       "    </tr>\n",
       "    <tr>\n",
       "      <th>2</th>\n",
       "      <td>9473903.0</td>\n",
       "      <td>5.0</td>\n",
       "      <td>84</td>\n",
       "      <td>0.541505</td>\n",
       "      <td>0.547269</td>\n",
       "    </tr>\n",
       "    <tr>\n",
       "      <th>3</th>\n",
       "      <td>9473915.0</td>\n",
       "      <td>5.0</td>\n",
       "      <td>84</td>\n",
       "      <td>0.499716</td>\n",
       "      <td>0.489964</td>\n",
       "    </tr>\n",
       "    <tr>\n",
       "      <th>4</th>\n",
       "      <td>9473931.0</td>\n",
       "      <td>5.0</td>\n",
       "      <td>84</td>\n",
       "      <td>0.755170</td>\n",
       "      <td>0.758336</td>\n",
       "    </tr>\n",
       "  </tbody>\n",
       "</table>\n",
       "</div>"
      ],
      "text/plain": [
       "         ppt  list_num   n  pearson_ppt  spearman_ppt\n",
       "0  9473885.0       5.0  84     0.858743      0.839662\n",
       "1  9473887.0       5.0  84     0.888577      0.855338\n",
       "2  9473903.0       5.0  84     0.541505      0.547269\n",
       "3  9473915.0       5.0  84     0.499716      0.489964\n",
       "4  9473931.0       5.0  84     0.755170      0.758336"
      ]
     },
     "execution_count": 23,
     "metadata": {},
     "output_type": "execute_result"
    }
   ],
   "source": [
    "df_correlations_ppt = pd.DataFrame(correlations_ppt)\n",
    "df_correlations_ppt.head(5)"
   ]
  },
  {
   "cell_type": "markdown",
   "id": "5a168fc9",
   "metadata": {},
   "source": [
    "### Exclude low-performing humans"
   ]
  },
  {
   "cell_type": "code",
   "execution_count": 24,
   "id": "00f837b9",
   "metadata": {},
   "outputs": [
    {
     "data": {
      "text/plain": [
       "1"
      ]
     },
     "execution_count": 24,
     "metadata": {},
     "output_type": "execute_result"
    }
   ],
   "source": [
    "exclude = df_correlations_ppt[df_correlations_ppt['pearson_ppt'] < .1]['ppt'].values\n",
    "len(exclude)"
   ]
  },
  {
   "cell_type": "code",
   "execution_count": 25,
   "id": "3c5acf06",
   "metadata": {},
   "outputs": [],
   "source": [
    "df_target = df_target[~df_target['participant'].isin(exclude)]"
   ]
  },
  {
   "cell_type": "code",
   "execution_count": 26,
   "id": "35981bb8",
   "metadata": {},
   "outputs": [
    {
     "name": "stdout",
     "output_type": "stream",
     "text": [
      "94 ppts after excluding ppts with low correlations.\n"
     ]
    }
   ],
   "source": [
    "df_correlations_ppt = df_correlations_ppt[df_correlations_ppt['pearson_ppt'] >= .1]\n",
    "print(\"{X} ppts after excluding ppts with low correlations.\".format(X = df_correlations_ppt.shape[0]))"
   ]
  },
  {
   "cell_type": "markdown",
   "id": "880896fd",
   "metadata": {},
   "source": [
    "### Individual humans vs. LLM"
   ]
  },
  {
   "cell_type": "code",
   "execution_count": 27,
   "id": "ca569745",
   "metadata": {},
   "outputs": [],
   "source": [
    "df_individual_comparison = pd.merge(df_correlations_ppt, df_correlations_llm)\n",
    "df_individual_comparison['pearson_diff'] = df_individual_comparison['pearson_llm'] - df_individual_comparison['pearson_ppt']\n",
    "df_individual_comparison['spearman_diff'] = df_individual_comparison['spearman_llm'] - df_individual_comparison['spearman_ppt']"
   ]
  },
  {
   "cell_type": "code",
   "execution_count": 28,
   "id": "41d76a53",
   "metadata": {},
   "outputs": [
    {
     "name": "stdout",
     "output_type": "stream",
     "text": [
      "Average difference in Pearson's r (LLM - Human) across lists: 0.005574613533695029\n",
      "Average difference in Spearman's rho across lists: 0.026847150071524502\n"
     ]
    }
   ],
   "source": [
    "print(\"Average difference in Pearson's r (LLM - Human) across lists: {r}\".\n",
    "     format(r = df_individual_comparison['pearson_diff'].mean()))\n",
    "print(\"Average difference in Spearman's rho across lists: {r}\".\n",
    "     format(r = df_individual_comparison['spearman_diff'].mean()))"
   ]
  },
  {
   "cell_type": "code",
   "execution_count": 29,
   "id": "14d80bdc",
   "metadata": {},
   "outputs": [
    {
     "data": {
      "text/plain": [
       "Text(0.5, 0, \"Distribution of human Pearson's correlations\")"
      ]
     },
     "execution_count": 29,
     "metadata": {},
     "output_type": "execute_result"
    },
    {
     "data": {
      "image/png": "[encoded data removed]",
      "text/plain": [
       "<Figure size 432x288 with 1 Axes>"
      ]
     },
     "metadata": {
      "image/png": {
       "height": 261,
       "width": 382
      },
      "needs_background": "light"
     },
     "output_type": "display_data"
    }
   ],
   "source": [
    "sns.histplot(data = df_individual_comparison,\n",
    "            x = \"pearson_ppt\")\n",
    "plt.axvline(x = df_individual_comparison['pearson_llm'].mean(), linestyle = \"dotted\", color = \"red\")\n",
    "plt.xlabel(\"Distribution of human Pearson's correlations\")"
   ]
  },
  {
   "cell_type": "code",
   "execution_count": 30,
   "id": "2098fa84",
   "metadata": {},
   "outputs": [
    {
     "data": {
      "text/plain": [
       "Text(0.5, 0, 'Distribution of human Spearman correlations')"
      ]
     },
     "execution_count": 30,
     "metadata": {},
     "output_type": "execute_result"
    },
    {
     "data": {
      "image/png": "[encoded data removed]",
      "text/plain": [
       "<Figure size 432x288 with 1 Axes>"
      ]
     },
     "metadata": {
      "image/png": {
       "height": 261,
       "width": 382
      },
      "needs_background": "light"
     },
     "output_type": "display_data"
    }
   ],
   "source": [
    "sns.histplot(data = df_individual_comparison,\n",
    "            x = \"spearman_ppt\")\n",
    "plt.axvline(x = df_individual_comparison['spearman_llm'].mean(), linestyle = \"dotted\", color = \"red\")\n",
    "plt.xlabel(\"Distribution of human Spearman correlations\")"
   ]
  },
  {
   "cell_type": "markdown",
   "id": "605b64ed",
   "metadata": {},
   "source": [
    "## Step 4: Sampling comparison\n",
    "\n",
    "In this crucial step, we ask about **how many participants** are needed to attain the same degree of correlation with the ground truth as GPT-4 has. \n",
    "\n",
    "For each list, we:\n",
    "\n",
    "- Sample random subsets of ppts of size $k$.  \n",
    "- Compute the average rating per word for each subset.  \n",
    "- Compute the correlation between this **sample** and the ground truth.  \n",
    "- Repeat for larger and larger values of $k$."
   ]
  },
  {
   "cell_type": "code",
   "execution_count": 67,
   "id": "9d5e845f",
   "metadata": {},
   "outputs": [],
   "source": [
    "### For reproducibility during sampling\n",
    "random.seed(1)\n",
    "MAX_COMBOS = 500"
   ]
  },
  {
   "cell_type": "code",
   "execution_count": 68,
   "id": "8fc6cdc0",
   "metadata": {},
   "outputs": [
    {
     "name": "stderr",
     "output_type": "stream",
     "text": [
      "100%|█████████████████████████████████████████████| 8/8 [00:41<00:00,  5.19s/it]\n"
     ]
    }
   ],
   "source": [
    "### Track correlations\n",
    "correlations_ppt_sample = []\n",
    "for LIST in tqdm(list(range(1, 9))):\n",
    "\n",
    "    ### Target list\n",
    "    df_target_list = df_target[df_target['list'] == LIST]\n",
    "    ## Ppts\n",
    "    ppts = df_target_list['participant'].unique()\n",
    "    \n",
    "    ### In future, set K higher\n",
    "    for K in range(1, len(ppts)):\n",
    "\n",
    "        ### Unique combinations of size K\n",
    "        combinations = list(itertools.combinations(ppts, K))\n",
    "        \n",
    "        ### To make analysis easier, \n",
    "        if len(combinations) > MAX_COMBOS:\n",
    "            combinations = random.sample(combinations, MAX_COMBOS)\n",
    "\n",
    "        ## Target df\n",
    "        df_true = list_to_df[LIST][['sentences_joined', 'mean_relatedness', 'gpt4_rating']]\n",
    "\n",
    "        for i, combo in enumerate(combinations):\n",
    "\n",
    "            df_tmp = df_target_list[df_target_list['participant'].isin(combo)]\n",
    "\n",
    "            ## Get sample avg\n",
    "            df_tmp_avg = df_tmp[['sentences_joined', 'Response']].groupby('sentences_joined').mean().reset_index()\n",
    "            \n",
    "            \n",
    "\n",
    "            ## Join with target_list\n",
    "            df_joined_tmp = pd.merge(df_tmp_avg, df_true)\n",
    "\n",
    "            correlations_ppt_sample.append({\n",
    "                'k': K,\n",
    "                'combo_index': i,\n",
    "                'list_num': LIST,\n",
    "                'n': len(df_joined_tmp),\n",
    "                'pearson_k': ss.pearsonr(df_joined_tmp['Response'],\n",
    "                                     df_joined_tmp['mean_relatedness'])[0],\n",
    "                'spearman_k': ss.spearmanr(df_joined_tmp['Response'],\n",
    "                                     df_joined_tmp['mean_relatedness'])[0]\n",
    "\n",
    "            })"
   ]
  },
  {
   "cell_type": "code",
   "execution_count": 69,
   "id": "3cfb7518",
   "metadata": {},
   "outputs": [
    {
     "data": {
      "text/plain": [
       "(21340, 6)"
      ]
     },
     "execution_count": 69,
     "metadata": {},
     "output_type": "execute_result"
    }
   ],
   "source": [
    "df_correlations_ppt_sample = pd.DataFrame(correlations_ppt_sample)\n",
    "df_correlations_ppt_sample.shape"
   ]
  },
  {
   "cell_type": "code",
   "execution_count": 70,
   "id": "b4a7463a",
   "metadata": {},
   "outputs": [],
   "source": [
    "### Merge with LLMs\n",
    "df_subset_comparison = pd.merge(df_correlations_ppt_sample, df_correlations_llm)\n",
    "df_subset_comparison['pearson_diff'] = df_subset_comparison['pearson_llm'] - df_subset_comparison['pearson_k']\n",
    "df_subset_comparison['spearman_diff'] = df_subset_comparison['spearman_llm'] - df_subset_comparison['spearman_k']"
   ]
  },
  {
   "cell_type": "code",
   "execution_count": 71,
   "id": "2a38b51f",
   "metadata": {},
   "outputs": [
    {
     "name": "stdout",
     "output_type": "stream",
     "text": [
      "Average difference in Pearson's r across lists: -0.1318633962847309\n",
      "Average difference in Spearman's rho across lists: -0.09673058438654633\n"
     ]
    }
   ],
   "source": [
    "print(\"Average difference in Pearson's r across lists: {r}\".\n",
    "     format(r = df_subset_comparison['pearson_diff'].mean()))\n",
    "print(\"Average difference in Spearman's rho across lists: {r}\".\n",
    "     format(r = df_subset_comparison['spearman_diff'].mean()))"
   ]
  },
  {
   "cell_type": "code",
   "execution_count": 72,
   "id": "08451514",
   "metadata": {},
   "outputs": [
    {
     "data": {
      "text/plain": [
       "<matplotlib.lines.Line2D at 0x7ff4aa311520>"
      ]
     },
     "execution_count": 72,
     "metadata": {},
     "output_type": "execute_result"
    },
    {
     "data": {
      "image/png": "[encoded data removed]",
      "text/plain": [
       "<Figure size 432x288 with 1 Axes>"
      ]
     },
     "metadata": {
      "image/png": {
       "height": 261,
       "width": 406
      },
      "needs_background": "light"
     },
     "output_type": "display_data"
    }
   ],
   "source": [
    "sns.pointplot(data = df_subset_comparison,\n",
    "            x = \"k\", y = 'pearson_diff')\n",
    "plt.xlabel(\"Size of sample\")\n",
    "plt.ylabel(\"Pearson's R Difference (LLM - Human)\")\n",
    "plt.axhline(y = 0, linestyle = \"dotted\")\n"
   ]
  },
  {
   "cell_type": "code",
   "execution_count": 73,
   "id": "ed047f82",
   "metadata": {},
   "outputs": [
    {
     "data": {
      "text/plain": [
       "<matplotlib.lines.Line2D at 0x7ff4aa2fbc70>"
      ]
     },
     "execution_count": 73,
     "metadata": {},
     "output_type": "execute_result"
    },
    {
     "data": {
      "image/png": "[encoded data removed]",
      "text/plain": [
       "<Figure size 432x288 with 1 Axes>"
      ]
     },
     "metadata": {
      "image/png": {
       "height": 261,
       "width": 406
      },
      "needs_background": "light"
     },
     "output_type": "display_data"
    }
   ],
   "source": [
    "sns.pointplot(data = df_subset_comparison,\n",
    "            x = \"k\", y = 'spearman_diff')\n",
    "plt.xlabel(\"Size of sample\")\n",
    "plt.ylabel(\"Spearman's rho Difference (LLM - Human)\")\n",
    "plt.axhline(y = 0, linestyle = \"dotted\")"
   ]
  },
  {
   "cell_type": "code",
   "execution_count": 74,
   "id": "ae11043d",
   "metadata": {},
   "outputs": [],
   "source": [
    "### Merge with LLMs\n",
    "df_subset_comparison['pearson_rat'] = df_subset_comparison['pearson_llm'] / df_subset_comparison['pearson_k']\n",
    "df_subset_comparison['spearman_rat'] = df_subset_comparison['spearman_llm'] / df_subset_comparison['spearman_k']"
   ]
  },
  {
   "cell_type": "code",
   "execution_count": 75,
   "id": "aaa8bc8f",
   "metadata": {},
   "outputs": [
    {
     "name": "stdout",
     "output_type": "stream",
     "text": [
      "Average ratio in Pearson's r across lists: 0.8590380152487058\n",
      "Average ratio in Spearman's rho across lists: 0.8931740556091313\n"
     ]
    }
   ],
   "source": [
    "print(\"Average ratio in Pearson's r across lists: {r}\".\n",
    "     format(r = df_subset_comparison['pearson_rat'].mean()))\n",
    "print(\"Average ratio in Spearman's rho across lists: {r}\".\n",
    "     format(r = df_subset_comparison['spearman_rat'].mean()))"
   ]
  },
  {
   "cell_type": "code",
   "execution_count": 76,
   "id": "97d1cf0d",
   "metadata": {},
   "outputs": [
    {
     "data": {
      "text/plain": [
       "<matplotlib.lines.Line2D at 0x7ff4aab6d2b0>"
      ]
     },
     "execution_count": 76,
     "metadata": {},
     "output_type": "execute_result"
    },
    {
     "data": {
      "image/png": "[encoded data removed]",
      "text/plain": [
       "<Figure size 432x288 with 1 Axes>"
      ]
     },
     "metadata": {
      "image/png": {
       "height": 261,
       "width": 391
      },
      "needs_background": "light"
     },
     "output_type": "display_data"
    }
   ],
   "source": [
    "sns.pointplot(data = df_subset_comparison,\n",
    "            x = \"k\", y = 'pearson_rat')\n",
    "plt.xlabel(\"Size of sample\")\n",
    "plt.ylabel(\"Pearson's R Difference (LLM / Human)\")\n",
    "plt.axhline(y = 1, linestyle = \"dotted\")\n"
   ]
  },
  {
   "cell_type": "code",
   "execution_count": 77,
   "id": "be18df82",
   "metadata": {},
   "outputs": [
    {
     "data": {
      "text/plain": [
       "<matplotlib.lines.Line2D at 0x7ff4aaba9370>"
      ]
     },
     "execution_count": 77,
     "metadata": {},
     "output_type": "execute_result"
    },
    {
     "data": {
      "image/png": "[encoded data removed]",
      "text/plain": [
       "<Figure size 432x288 with 1 Axes>"
      ]
     },
     "metadata": {
      "image/png": {
       "height": 261,
       "width": 391
      },
      "needs_background": "light"
     },
     "output_type": "display_data"
    }
   ],
   "source": [
    "sns.pointplot(data = df_subset_comparison,\n",
    "            x = \"k\", y = 'spearman_rat')\n",
    "plt.xlabel(\"Size of sample\")\n",
    "plt.ylabel(\"Spearman's rho Difference (LLM / Human)\")\n",
    "plt.axhline(y = 1, linestyle = \"dotted\")"
   ]
  },
  {
   "cell_type": "code",
   "execution_count": 78,
   "id": "13c1becd",
   "metadata": {},
   "outputs": [
    {
     "data": {
      "text/plain": [
       "<matplotlib.lines.Line2D at 0x7ff4aabf5a90>"
      ]
     },
     "execution_count": 78,
     "metadata": {},
     "output_type": "execute_result"
    },
    {
     "data": {
      "image/png": "[encoded data removed]",
      "text/plain": [
       "<Figure size 432x288 with 1 Axes>"
      ]
     },
     "metadata": {
      "image/png": {
       "height": 261,
       "width": 398
      },
      "needs_background": "light"
     },
     "output_type": "display_data"
    }
   ],
   "source": [
    "sns.pointplot(data = df_subset_comparison,\n",
    "            x = \"k\", y = 'pearson_k')\n",
    "plt.xlabel(\"Size of sample\")\n",
    "plt.ylabel(\"Pearson's r\")\n",
    "plt.axhline(y = df_correlations_llm['pearson_llm'].mean(), linestyle = \"dotted\")"
   ]
  },
  {
   "cell_type": "code",
   "execution_count": 79,
   "id": "1bae59df",
   "metadata": {},
   "outputs": [
    {
     "data": {
      "text/plain": [
       "<matplotlib.lines.Line2D at 0x7ff4a08a0220>"
      ]
     },
     "execution_count": 79,
     "metadata": {},
     "output_type": "execute_result"
    },
    {
     "data": {
      "image/png": "[encoded data removed]",
      "text/plain": [
       "<Figure size 432x288 with 1 Axes>"
      ]
     },
     "metadata": {
      "image/png": {
       "height": 263,
       "width": 391
      },
      "needs_background": "light"
     },
     "output_type": "display_data"
    }
   ],
   "source": [
    "sns.pointplot(data = df_subset_comparison,\n",
    "            x = \"k\", y = 'spearman_k')\n",
    "plt.xlabel(\"Size of sample\")\n",
    "plt.ylabel(\"Spearman's rho\")\n",
    "plt.axhline(y = df_correlations_llm['spearman_llm'].mean(), linestyle = \"dotted\")"
   ]
  },
  {
   "cell_type": "markdown",
   "id": "d7dc9b8e",
   "metadata": {},
   "source": [
    "### Parity Analysis\n",
    "\n",
    "Here, we ask at what point the distribution of differences (or ratios) is significantly less than 0 (or 1, for raitos)."
   ]
  },
  {
   "cell_type": "markdown",
   "id": "4c6ee4c5",
   "metadata": {},
   "source": [
    "#### Ratio"
   ]
  },
  {
   "cell_type": "code",
   "execution_count": 80,
   "id": "fd0a5fb4",
   "metadata": {},
   "outputs": [],
   "source": [
    "parity_results_ratio = []\n",
    "for k in range(1, max(df_subset_comparison['k']) + 1):\n",
    "    \n",
    "    ## Get subsets of size K\n",
    "    df_tmp = df_subset_comparison[df_subset_comparison['k'] == k]\n",
    "    \n",
    "    ## Get Pearson's ratios\n",
    "    values = df_tmp['pearson_rat']\n",
    "    \n",
    "    ## one-tailed t-test\n",
    "    t_stat, p_value = ss.ttest_1samp(values, 1)\n",
    "    \n",
    "    parity_results_ratio.append({\n",
    "        'k': k,\n",
    "        't': t_stat,\n",
    "        'p': p_value / 2, ## For one-tailed test\n",
    "        'n': len(values),\n",
    "        'mean': values.mean(),\n",
    "        'sd': values.std()\n",
    "    })"
   ]
  },
  {
   "cell_type": "code",
   "execution_count": 81,
   "id": "a915cf63",
   "metadata": {},
   "outputs": [
    {
     "name": "stdout",
     "output_type": "stream",
     "text": [
      "Minimum k: 2.0, t(516.0) = -25.930045084473434, p = 7.829893914283573e-96, mean = 0.9207699921832468\n"
     ]
    }
   ],
   "source": [
    "df_parity_results_ratio = pd.DataFrame(parity_results_ratio)\n",
    "df_parity_results_ratio_sig = df_parity_results_ratio[(df_parity_results_ratio['p']<.05)&(df_parity_results_ratio['t']<0)]\n",
    "df_parity_results_ratio_sig['k'].min()\n",
    "# Find the index of the row with the minimum value in column B\n",
    "idx = df_parity_results_ratio_sig['k'].idxmin()\n",
    "# Retrieve the row by index\n",
    "min_row = df_parity_results_ratio_sig.loc[idx]\n",
    "print(\"Minimum k: {k}, t({df}) = {t}, p = {p}, mean = {mean}\".\n",
    "     format(k = min_row['k'],\n",
    "            df = min_row['n'] - 1,\n",
    "           t = min_row['t'],\n",
    "           p = min_row['p'],\n",
    "           mean = min_row['mean']))"
   ]
  },
  {
   "cell_type": "code",
   "execution_count": 95,
   "id": "09b3ed6e",
   "metadata": {},
   "outputs": [],
   "source": [
    "parity_results_ratio = []\n",
    "for k in range(1, max(df_subset_comparison['k'])):\n",
    "    \n",
    "    ## Get subsets of size K\n",
    "    df_tmp = df_subset_comparison[df_subset_comparison['k'] == k]\n",
    "    \n",
    "    ## Get Pearson's ratios\n",
    "    values = df_tmp['spearman_rat']\n",
    "    \n",
    "    ## one-tailed t-test\n",
    "    t_stat, p_value = ss.ttest_1samp(values, 1)\n",
    "    \n",
    "    parity_results_ratio.append({\n",
    "        'k': k,\n",
    "        't': t_stat,\n",
    "        'p': p_value / 2, ## For one-tailed test\n",
    "        'mean': values.mean(),\n",
    "        'sd': values.std()\n",
    "    })"
   ]
  },
  {
   "cell_type": "code",
   "execution_count": 96,
   "id": "566bd4e5",
   "metadata": {},
   "outputs": [
    {
     "name": "stdout",
     "output_type": "stream",
     "text": [
      "Minimum k: 2.0, t = -17.047685290832845, p = 2.5532710676695685e-52, mean = 0.9505377392647131\n"
     ]
    }
   ],
   "source": [
    "df_parity_results_ratio = pd.DataFrame(parity_results_ratio)\n",
    "df_parity_results_ratio_sig = df_parity_results_ratio[(df_parity_results_ratio['p']<.05)&(df_parity_results_ratio['t']<0)]\n",
    "df_parity_results_ratio_sig['k'].min()\n",
    "# Find the index of the row with the minimum value in column B\n",
    "idx = df_parity_results_ratio_sig['k'].idxmin()\n",
    "# Retrieve the row by index\n",
    "min_row = df_parity_results_ratio_sig.loc[idx]\n",
    "print(\"Minimum k: {k}, t = {t}, p = {p}, mean = {mean}\".\n",
    "     format(k = min_row['k'],\n",
    "           t = min_row['t'],\n",
    "           p = min_row['p'],\n",
    "           mean = min_row['mean']))"
   ]
  },
  {
   "cell_type": "markdown",
   "id": "8d83373f",
   "metadata": {},
   "source": [
    "#### Difference"
   ]
  },
  {
   "cell_type": "code",
   "execution_count": 97,
   "id": "6eed09c8",
   "metadata": {},
   "outputs": [],
   "source": [
    "parity_results_diff = []\n",
    "for k in range(1, max(df_subset_comparison['k'])):\n",
    "    \n",
    "    ## Get subsets of size K\n",
    "    df_tmp = df_subset_comparison[df_subset_comparison['k'] == k]\n",
    "    \n",
    "    ## Get Pearson's ratios\n",
    "    values = df_tmp['pearson_diff']\n",
    "    \n",
    "    ## one-tailed t-test\n",
    "    t_stat, p_value = ss.ttest_1samp(values, 0)\n",
    "    \n",
    "    parity_results_diff.append({\n",
    "        'k': k,\n",
    "        't': t_stat,\n",
    "        'p': p_value / 2, ## For one-tailed test\n",
    "        'mean': values.mean(),\n",
    "        'sd': values.std()\n",
    "    })"
   ]
  },
  {
   "cell_type": "code",
   "execution_count": 98,
   "id": "e9b8a6ad",
   "metadata": {},
   "outputs": [
    {
     "name": "stdout",
     "output_type": "stream",
     "text": [
      "Minimum k: 2.0, t = -29.96922039135295, p = 2.3874079916958612e-115, mean = -0.07222287888871291\n"
     ]
    }
   ],
   "source": [
    "df_parity_results_diff = pd.DataFrame(parity_results_diff)\n",
    "df_parity_results_diff_sig = df_parity_results_diff[(df_parity_results_diff['p']<.05)&(df_parity_results_diff['t']<0)]\n",
    "df_parity_results_diff_sig['k'].min()\n",
    "# Find the index of the row with the minimum value in column B\n",
    "idx = df_parity_results_diff_sig['k'].idxmin()\n",
    "# Retrieve the row by index\n",
    "min_row = df_parity_results_diff_sig.loc[idx]\n",
    "print(\"Minimum k: {k}, t = {t}, p = {p}, mean = {mean}\".\n",
    "     format(k = min_row['k'],\n",
    "           t = min_row['t'],\n",
    "           p = min_row['p'],\n",
    "           mean = min_row['mean']))"
   ]
  },
  {
   "cell_type": "code",
   "execution_count": 99,
   "id": "4eea3943",
   "metadata": {},
   "outputs": [],
   "source": [
    "parity_results_diff = []\n",
    "for k in range(1, max(df_subset_comparison['k'])):\n",
    "    \n",
    "    ## Get subsets of size K\n",
    "    df_tmp = df_subset_comparison[df_subset_comparison['k'] == k]\n",
    "    \n",
    "    ## Get Pearson's ratios\n",
    "    values = df_tmp['spearman_diff']\n",
    "    \n",
    "    ## one-tailed t-test\n",
    "    t_stat, p_value = ss.ttest_1samp(values, 0)\n",
    "    \n",
    "    parity_results_diff.append({\n",
    "        'k': k,\n",
    "        't': t_stat,\n",
    "        'p': p_value / 2, ## For one-tailed test\n",
    "        'mean': values.mean(),\n",
    "        'sd': values.std()\n",
    "    })"
   ]
  },
  {
   "cell_type": "code",
   "execution_count": 100,
   "id": "520ce1ce",
   "metadata": {},
   "outputs": [
    {
     "name": "stdout",
     "output_type": "stream",
     "text": [
      "Minimum k: 2.0, t = -20.51869267370712, p = 3.71435089854146e-69, mean = -0.04481758551427418\n"
     ]
    }
   ],
   "source": [
    "df_parity_results_diff = pd.DataFrame(parity_results_diff)\n",
    "df_parity_results_diff_sig = df_parity_results_diff[(df_parity_results_diff['p']<.05)&(df_parity_results_diff['t']<0)]\n",
    "df_parity_results_diff_sig['k'].min()\n",
    "# Find the index of the row with the minimum value in column B\n",
    "idx = df_parity_results_diff_sig['k'].idxmin()\n",
    "# Retrieve the row by index\n",
    "min_row = df_parity_results_diff_sig.loc[idx]\n",
    "print(\"Minimum k: {k}, t = {t}, p = {p}, mean = {mean}\".\n",
    "     format(k = min_row['k'],\n",
    "           t = min_row['t'],\n",
    "           p = min_row['p'],\n",
    "           mean = min_row['mean']))"
   ]
  },
  {
   "cell_type": "markdown",
   "id": "c7fa3868",
   "metadata": {},
   "source": [
    "## Step 5: Centaur method\n",
    "\n",
    "In this step, we ask about **augmenting** human samples with LLM judgments. That is: if LLM judgments are \"worth more\" than individual human judgments (in terms of correlation with the ground truth), then how much can we improve our precision by combining judgment types?\n",
    "\n",
    "Here, we can compare this measure to:\n",
    "\n",
    "- The maximum correlation achievable, i.e., using all humans in a given sample.  \n",
    "- The correlation achieved using an LLM alone.  \n",
    "- The correlation achieved using only humans from a given sample of size $K$. \n",
    "\n",
    "Of course, there are multiple ways one could combine LLM judgments. \n",
    "\n",
    "I consider two approaches:\n",
    "\n",
    "- Taking the average of LLM ratings and the human sample mean. This **over-weights** LLM judgments in the resulting estimate, but is a more useful proxy for researchers who (for whatever reason) lack access to individual human ratings.\n",
    "- Including LLM ratings as \"participants\" in the estimate of the human sample mean. This gives LLM ratings the **same weight as individual human ratings**. \n",
    "\n",
    "Note that neither approach is necessarily *ideal*: it is possible that for a given task and LLM, there is a more **optimal mixing** of ratings."
   ]
  },
  {
   "cell_type": "markdown",
   "id": "d62001c0",
   "metadata": {},
   "source": [
    "### Get max correlations (using all ppts in a list)"
   ]
  },
  {
   "cell_type": "code",
   "execution_count": 33,
   "id": "b2ff54e4",
   "metadata": {},
   "outputs": [],
   "source": [
    "### First, get all the `max_corr` values\n",
    "max_corrs = []\n",
    "for list_num in range(1, 9):\n",
    "    \n",
    "    ## Target df\n",
    "    df_true = list_to_df[list_num][['sentences_joined', 'mean_relatedness', 'gpt4_rating']]\n",
    "    \n",
    "    ### Target list\n",
    "    df_target_list = df_target[df_target['list'] == list_num]\n",
    "    \n",
    "    if len(df_target_list) > 0:\n",
    "\n",
    "       ## Get sample avg\n",
    "        df_tmp_avg = df_target_list[['sentences_joined', 'Response']].groupby('sentences_joined').mean().reset_index()\n",
    "\n",
    "        ## Join with target_list\n",
    "        df_joined_tmp = pd.merge(df_tmp_avg, df_true)\n",
    "\n",
    "\n",
    "        max_corrs.append({\n",
    "            'list_num': list_num,\n",
    "            'num_ppts': len(df_target_list['participant'].unique()),\n",
    "            'pearson_max': ss.pearsonr(df_joined_tmp['Response'],\n",
    "                                 df_joined_tmp['mean_relatedness'])[0],\n",
    "            'spearman_max': ss.spearmanr(df_joined_tmp['Response'],\n",
    "                                 df_joined_tmp['mean_relatedness'])[0]\n",
    "        })"
   ]
  },
  {
   "cell_type": "code",
   "execution_count": 34,
   "id": "6e9e3815",
   "metadata": {},
   "outputs": [
    {
     "data": {
      "text/html": [
       "<div>\n",
       "<style scoped>\n",
       "    .dataframe tbody tr th:only-of-type {\n",
       "        vertical-align: middle;\n",
       "    }\n",
       "\n",
       "    .dataframe tbody tr th {\n",
       "        vertical-align: top;\n",
       "    }\n",
       "\n",
       "    .dataframe thead th {\n",
       "        text-align: right;\n",
       "    }\n",
       "</style>\n",
       "<table border=\"1\" class=\"dataframe\">\n",
       "  <thead>\n",
       "    <tr style=\"text-align: right;\">\n",
       "      <th></th>\n",
       "      <th>list_num</th>\n",
       "      <th>num_ppts</th>\n",
       "      <th>pearson_max</th>\n",
       "      <th>spearman_max</th>\n",
       "    </tr>\n",
       "  </thead>\n",
       "  <tbody>\n",
       "    <tr>\n",
       "      <th>0</th>\n",
       "      <td>1</td>\n",
       "      <td>12</td>\n",
       "      <td>0.970220</td>\n",
       "      <td>0.932988</td>\n",
       "    </tr>\n",
       "    <tr>\n",
       "      <th>1</th>\n",
       "      <td>2</td>\n",
       "      <td>13</td>\n",
       "      <td>0.944533</td>\n",
       "      <td>0.918201</td>\n",
       "    </tr>\n",
       "  </tbody>\n",
       "</table>\n",
       "</div>"
      ],
      "text/plain": [
       "   list_num  num_ppts  pearson_max  spearman_max\n",
       "0         1        12     0.970220      0.932988\n",
       "1         2        13     0.944533      0.918201"
      ]
     },
     "execution_count": 34,
     "metadata": {},
     "output_type": "execute_result"
    }
   ],
   "source": [
    "df_max_corrs = pd.DataFrame(max_corrs)\n",
    "df_max_corrs.head(2)"
   ]
  },
  {
   "cell_type": "code",
   "execution_count": 35,
   "id": "f9642b06",
   "metadata": {},
   "outputs": [
    {
     "data": {
      "text/plain": [
       "<AxesSubplot:xlabel='pearson_max', ylabel='Count'>"
      ]
     },
     "execution_count": 35,
     "metadata": {},
     "output_type": "execute_result"
    },
    {
     "data": {
      "image/png": "[encoded data removed]",
      "text/plain": [
       "<Figure size 432x288 with 1 Axes>"
      ]
     },
     "metadata": {
      "image/png": {
       "height": 261,
       "width": 385
      },
      "needs_background": "light"
     },
     "output_type": "display_data"
    }
   ],
   "source": [
    "sns.histplot(data = df_max_corrs, x = \"pearson_max\")"
   ]
  },
  {
   "cell_type": "code",
   "execution_count": 36,
   "id": "fda4f6da",
   "metadata": {},
   "outputs": [],
   "source": [
    "df_max_corrs.to_csv(\"../../data/processed/rawc_max_corrs.csv\", index = False)"
   ]
  },
  {
   "cell_type": "markdown",
   "id": "d2e8bf96",
   "metadata": {},
   "source": [
    "### Get centaur correlations"
   ]
  },
  {
   "cell_type": "code",
   "execution_count": 104,
   "id": "7080cf4f",
   "metadata": {},
   "outputs": [],
   "source": [
    "### For reproducibility during sampling\n",
    "random.seed(1)\n",
    "MAX_COMBOS = 500"
   ]
  },
  {
   "cell_type": "code",
   "execution_count": 106,
   "id": "71074502",
   "metadata": {},
   "outputs": [
    {
     "name": "stderr",
     "output_type": "stream",
     "text": [
      "100%|█████████████████████████████████████████████| 8/8 [02:02<00:00, 15.29s/it]\n"
     ]
    }
   ],
   "source": [
    "### Track correlations\n",
    "correlations_ppt_centaur = []\n",
    "for LIST in tqdm(list(range(1, 9))):\n",
    "\n",
    "    ### Target list\n",
    "    df_target_list = df_target[df_target['list'] == LIST]\n",
    "    ## Ppts\n",
    "    ppts = df_target_list['participant'].unique()\n",
    "    \n",
    "    ### In future, set K higher\n",
    "    for K in range(1, len(ppts)):\n",
    "\n",
    "        ### Unique combinations of size K\n",
    "        combinations = list(itertools.combinations(ppts, K))\n",
    "        \n",
    "        ### To make analysis easier, \n",
    "        if len(combinations) > MAX_COMBOS:\n",
    "            combinations = random.sample(combinations, MAX_COMBOS)\n",
    "\n",
    "        ## Target df\n",
    "        df_true = list_to_df[LIST]\n",
    "\n",
    "        for i, combo in enumerate(combinations):\n",
    "\n",
    "            df_tmp = df_target_list[df_target_list['participant'].isin(combo)][['participant', 'sentences_joined', 'Response']]\n",
    "\n",
    "            ## Get sample avg\n",
    "            df_tmp_avg = df_tmp[['sentences_joined', 'Response']].groupby('sentences_joined').mean().reset_index()\n",
    "            \n",
    "            ## Create centaur DF\n",
    "            df_llm_tmp = df_true[['sentences_joined', 'gpt4_rating']].copy()\n",
    "            df_llm_tmp['participant'] = 'LLM'\n",
    "            df_llm_tmp['Response'] = df_llm_tmp['gpt4_rating']\n",
    "            df_llm_tmp = df_llm_tmp[['sentences_joined', 'Response', 'participant']]\n",
    "            df_centaur = pd.concat([df_tmp, df_llm_tmp])\n",
    "            \n",
    "            ## Get centaur avg\n",
    "            df_centaur_avg = df_centaur[['sentences_joined', 'Response']].groupby('sentences_joined').mean().reset_index()\n",
    "\n",
    "            ## Join with target_list\n",
    "            df_joined_tmp = pd.merge(df_tmp_avg, df_true)\n",
    "            \n",
    "            ## Join with target_list\n",
    "            df_joined_tmp_centaur = pd.merge(df_centaur_avg, df_true)\n",
    "            \n",
    "            ## Centaur approach 1\n",
    "            df_joined_tmp['Relatedness_augmented'] = (df_joined_tmp['Response'] + df_joined_tmp['gpt4_rating']) / 2\n",
    "\n",
    "            correlations_ppt_centaur.append({\n",
    "                'k': K,\n",
    "                'combo_index': i,\n",
    "                'list_num': LIST,\n",
    "                'n': len(df_joined_tmp),\n",
    "                'pearson_centaur1': ss.pearsonr(df_joined_tmp['Relatedness_augmented'],\n",
    "                                     df_joined_tmp['mean_relatedness'])[0],\n",
    "                'spearman_centaur1': ss.spearmanr(df_joined_tmp['Relatedness_augmented'],\n",
    "                                     df_joined_tmp['mean_relatedness'])[0],\n",
    "                'pearson_ppt': ss.pearsonr(df_joined_tmp['Response'],\n",
    "                                     df_joined_tmp['mean_relatedness'])[0],\n",
    "                'spearman_ppt': ss.spearmanr(df_joined_tmp['Response'],\n",
    "                                     df_joined_tmp['mean_relatedness'])[0],\n",
    "                'pearson_centaur2': ss.pearsonr(df_joined_tmp_centaur['Response'],\n",
    "                                     df_joined_tmp['mean_relatedness'])[0],\n",
    "                'spearman_centaur2': ss.spearmanr(df_joined_tmp_centaur['Response'],\n",
    "                                     df_joined_tmp['mean_relatedness'])[0],\n",
    "\n",
    "            })"
   ]
  },
  {
   "cell_type": "code",
   "execution_count": 107,
   "id": "1768a584",
   "metadata": {},
   "outputs": [
    {
     "data": {
      "text/plain": [
       "(21340, 10)"
      ]
     },
     "execution_count": 107,
     "metadata": {},
     "output_type": "execute_result"
    }
   ],
   "source": [
    "df_correlations_ppt_centaur = pd.DataFrame(correlations_ppt_centaur)\n",
    "df_correlations_ppt_centaur.shape"
   ]
  },
  {
   "cell_type": "code",
   "execution_count": 108,
   "id": "d6479183",
   "metadata": {},
   "outputs": [
    {
     "data": {
      "text/html": [
       "<div>\n",
       "<style scoped>\n",
       "    .dataframe tbody tr th:only-of-type {\n",
       "        vertical-align: middle;\n",
       "    }\n",
       "\n",
       "    .dataframe tbody tr th {\n",
       "        vertical-align: top;\n",
       "    }\n",
       "\n",
       "    .dataframe thead th {\n",
       "        text-align: right;\n",
       "    }\n",
       "</style>\n",
       "<table border=\"1\" class=\"dataframe\">\n",
       "  <thead>\n",
       "    <tr style=\"text-align: right;\">\n",
       "      <th></th>\n",
       "      <th>k</th>\n",
       "      <th>combo_index</th>\n",
       "      <th>list_num</th>\n",
       "      <th>n</th>\n",
       "      <th>pearson_centaur1</th>\n",
       "      <th>spearman_centaur1</th>\n",
       "      <th>pearson_ppt</th>\n",
       "      <th>spearman_ppt</th>\n",
       "      <th>pearson_centaur2</th>\n",
       "      <th>spearman_centaur2</th>\n",
       "    </tr>\n",
       "  </thead>\n",
       "  <tbody>\n",
       "    <tr>\n",
       "      <th>0</th>\n",
       "      <td>1</td>\n",
       "      <td>0</td>\n",
       "      <td>1</td>\n",
       "      <td>84</td>\n",
       "      <td>0.915157</td>\n",
       "      <td>0.880112</td>\n",
       "      <td>0.885978</td>\n",
       "      <td>0.858373</td>\n",
       "      <td>0.915157</td>\n",
       "      <td>0.880112</td>\n",
       "    </tr>\n",
       "    <tr>\n",
       "      <th>1</th>\n",
       "      <td>1</td>\n",
       "      <td>1</td>\n",
       "      <td>1</td>\n",
       "      <td>84</td>\n",
       "      <td>0.905354</td>\n",
       "      <td>0.862241</td>\n",
       "      <td>0.849842</td>\n",
       "      <td>0.812612</td>\n",
       "      <td>0.905354</td>\n",
       "      <td>0.862241</td>\n",
       "    </tr>\n",
       "    <tr>\n",
       "      <th>2</th>\n",
       "      <td>1</td>\n",
       "      <td>2</td>\n",
       "      <td>1</td>\n",
       "      <td>84</td>\n",
       "      <td>0.839564</td>\n",
       "      <td>0.839715</td>\n",
       "      <td>0.693310</td>\n",
       "      <td>0.695524</td>\n",
       "      <td>0.839564</td>\n",
       "      <td>0.839715</td>\n",
       "    </tr>\n",
       "    <tr>\n",
       "      <th>3</th>\n",
       "      <td>1</td>\n",
       "      <td>3</td>\n",
       "      <td>1</td>\n",
       "      <td>84</td>\n",
       "      <td>0.899776</td>\n",
       "      <td>0.865384</td>\n",
       "      <td>0.843197</td>\n",
       "      <td>0.818696</td>\n",
       "      <td>0.899776</td>\n",
       "      <td>0.865384</td>\n",
       "    </tr>\n",
       "    <tr>\n",
       "      <th>4</th>\n",
       "      <td>1</td>\n",
       "      <td>4</td>\n",
       "      <td>1</td>\n",
       "      <td>84</td>\n",
       "      <td>0.943156</td>\n",
       "      <td>0.898493</td>\n",
       "      <td>0.925586</td>\n",
       "      <td>0.883580</td>\n",
       "      <td>0.943156</td>\n",
       "      <td>0.898493</td>\n",
       "    </tr>\n",
       "  </tbody>\n",
       "</table>\n",
       "</div>"
      ],
      "text/plain": [
       "   k  combo_index  list_num   n  pearson_centaur1  spearman_centaur1  \\\n",
       "0  1            0         1  84          0.915157           0.880112   \n",
       "1  1            1         1  84          0.905354           0.862241   \n",
       "2  1            2         1  84          0.839564           0.839715   \n",
       "3  1            3         1  84          0.899776           0.865384   \n",
       "4  1            4         1  84          0.943156           0.898493   \n",
       "\n",
       "   pearson_ppt  spearman_ppt  pearson_centaur2  spearman_centaur2  \n",
       "0     0.885978      0.858373          0.915157           0.880112  \n",
       "1     0.849842      0.812612          0.905354           0.862241  \n",
       "2     0.693310      0.695524          0.839564           0.839715  \n",
       "3     0.843197      0.818696          0.899776           0.865384  \n",
       "4     0.925586      0.883580          0.943156           0.898493  "
      ]
     },
     "execution_count": 108,
     "metadata": {},
     "output_type": "execute_result"
    }
   ],
   "source": [
    "df_correlations_ppt_centaur.head(5)"
   ]
  },
  {
   "cell_type": "markdown",
   "id": "3161f1bc",
   "metadata": {},
   "source": [
    "### Get centaur correlations"
   ]
  },
  {
   "cell_type": "code",
   "execution_count": 109,
   "id": "71ef7470",
   "metadata": {},
   "outputs": [
    {
     "data": {
      "text/plain": [
       "(21340, 12)"
      ]
     },
     "execution_count": 109,
     "metadata": {},
     "output_type": "execute_result"
    }
   ],
   "source": [
    "df_centaur_with_llm = pd.merge(df_correlations_ppt_centaur,\n",
    "                              df_correlations_llm)\n",
    "df_centaur_with_llm.shape"
   ]
  },
  {
   "cell_type": "code",
   "execution_count": 110,
   "id": "288f881d",
   "metadata": {},
   "outputs": [
    {
     "data": {
      "text/plain": [
       "(21340, 15)"
      ]
     },
     "execution_count": 110,
     "metadata": {},
     "output_type": "execute_result"
    }
   ],
   "source": [
    "df_centaur_with_llm = pd.merge(df_centaur_with_llm,\n",
    "                              df_max_corrs, how = \"left\")\n",
    "df_centaur_with_llm.shape"
   ]
  },
  {
   "cell_type": "markdown",
   "id": "e4552e37",
   "metadata": {},
   "source": [
    "### Comparison on a single plot"
   ]
  },
  {
   "cell_type": "code",
   "execution_count": 122,
   "id": "496d0a17",
   "metadata": {},
   "outputs": [
    {
     "data": {
      "text/plain": [
       "(21340, 15)"
      ]
     },
     "execution_count": 122,
     "metadata": {},
     "output_type": "execute_result"
    }
   ],
   "source": [
    "df_centaur_with_llm.shape"
   ]
  },
  {
   "cell_type": "code",
   "execution_count": 123,
   "id": "413f7006",
   "metadata": {},
   "outputs": [],
   "source": [
    "melted_df = pd.melt(\n",
    "    df_centaur_with_llm,\n",
    "    id_vars=['k', 'combo_index', 'list_num', 'n'],  # columns to keep\n",
    "    value_vars=['pearson_centaur1', 'pearson_centaur2', 'pearson_ppt'],  # columns to melt\n",
    "    var_name='pearson_type',  # new column name for melted columns\n",
    "    value_name='pearson_correlation'  # new column name for values\n",
    ")"
   ]
  },
  {
   "cell_type": "code",
   "execution_count": 124,
   "id": "897e0f8c",
   "metadata": {},
   "outputs": [],
   "source": [
    "melted_df['Sample Type'] = melted_df['pearson_type'].str.replace('pearson_', '')"
   ]
  },
  {
   "cell_type": "code",
   "execution_count": 125,
   "id": "0a2e2394",
   "metadata": {},
   "outputs": [
    {
     "data": {
      "text/plain": [
       "Text(0, 0.5, 'Correlation with RAW-C (2022)')"
      ]
     },
     "execution_count": 125,
     "metadata": {},
     "output_type": "execute_result"
    },
    {
     "data": {
      "image/png": "[encoded data removed]",
      "text/plain": [
       "<Figure size 432x288 with 1 Axes>"
      ]
     },
     "metadata": {
      "image/png": {
       "height": 261,
       "width": 398
      },
      "needs_background": "light"
     },
     "output_type": "display_data"
    }
   ],
   "source": [
    "sns.pointplot(data = melted_df,\n",
    "            x = \"k\",\n",
    "            y = \"pearson_correlation\",\n",
    "             hue = \"Sample Type\")\n",
    "\n",
    "plt.axhline(y = df_correlations_llm['pearson_llm'].mean(), linestyle = \"dotted\")\n",
    "plt.axhline(y = df_max_corrs['pearson_max'].mean(), linestyle = \"dotted\", color = \"red\")\n",
    "\n",
    "plt.ylabel(\"Correlation with RAW-C (2022)\")"
   ]
  },
  {
   "cell_type": "code",
   "execution_count": 126,
   "id": "55eaf6a9",
   "metadata": {},
   "outputs": [],
   "source": [
    "melted_df = pd.melt(\n",
    "    df_centaur_with_llm,\n",
    "    id_vars=['k', 'combo_index', 'list_num', 'n'],  # columns to keep\n",
    "    value_vars=['spearman_centaur1', 'spearman_centaur2', 'spearman_ppt'],  # columns to melt\n",
    "    var_name='spearman_type',  # new column name for melted columns\n",
    "    value_name='spearman_correlation'  # new column name for values\n",
    ")"
   ]
  },
  {
   "cell_type": "code",
   "execution_count": 127,
   "id": "cf07395a",
   "metadata": {},
   "outputs": [],
   "source": [
    "melted_df['Sample Type'] = melted_df['spearman_type'].str.replace('spearman_', '')"
   ]
  },
  {
   "cell_type": "code",
   "execution_count": 128,
   "id": "43dd3711",
   "metadata": {},
   "outputs": [
    {
     "data": {
      "text/plain": [
       "Text(0.5, 0, 'Sample Size')"
      ]
     },
     "execution_count": 128,
     "metadata": {},
     "output_type": "execute_result"
    },
    {
     "data": {
      "image/png": "[encoded data removed]",
      "text/plain": [
       "<Figure size 432x288 with 1 Axes>"
      ]
     },
     "metadata": {
      "image/png": {
       "height": 261,
       "width": 391
      },
      "needs_background": "light"
     },
     "output_type": "display_data"
    }
   ],
   "source": [
    "sns.pointplot(data = melted_df,\n",
    "            x = \"k\",\n",
    "            y = \"spearman_correlation\",\n",
    "             hue = \"Sample Type\")\n",
    "\n",
    "plt.axhline(y = df_correlations_llm['spearman_llm'].mean(), linestyle = \"dotted\")\n",
    "plt.axhline(y = df_max_corrs['spearman_max'].mean(), linestyle = \"dotted\", color = \"red\")\n",
    "plt.ylabel(\"Correlation with RAW-C (2022)\")\n",
    "plt.xlabel(\"Sample Size\")"
   ]
  },
  {
   "cell_type": "code",
   "execution_count": 119,
   "id": "84f7a11d",
   "metadata": {},
   "outputs": [],
   "source": [
    "### Save data\n",
    "df_centaur_with_llm.to_csv(\"../../data/processed/rawc_results.csv\", index = False)"
   ]
  },
  {
   "cell_type": "code",
   "execution_count": null,
   "id": "0ca9e5f8",
   "metadata": {},
   "outputs": [],
   "source": []
  }
 ],
 "metadata": {
  "kernelspec": {
   "display_name": "Python 3 (ipykernel)",
   "language": "python",
   "name": "python3"
  },
  "language_info": {
   "codemirror_mode": {
    "name": "ipython",
    "version": 3
   },
   "file_extension": ".py",
   "mimetype": "text/x-python",
   "name": "python",
   "nbconvert_exporter": "python",
   "pygments_lexer": "ipython3",
   "version": "3.11.0"
  }
 },
 "nbformat": 4,
 "nbformat_minor": 5
}
